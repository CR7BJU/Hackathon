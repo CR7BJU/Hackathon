{
 "cells": [
  {
   "cell_type": "code",
   "execution_count": null,
   "metadata": {},
   "outputs": [],
   "source": [
    "pip install pandas"
   ]
  },
  {
   "cell_type": "code",
   "execution_count": null,
   "metadata": {},
   "outputs": [],
   "source": [
    "import torch\n",
    "import pandas as pd\n",
    "import torch.nn as nn\n",
    "import matplotlib.pyplot as plt\n",
    "import torch.optim as optim\n",
    "from torch.utils.data import DataLoader, TensorDataset\n",
    "from sklearn.model_selection import train_test_split\n",
    "import numpy as np"
   ]
  },
  {
   "cell_type": "code",
   "execution_count": null,
   "metadata": {},
   "outputs": [],
   "source": [
    "# Load the training and testing datasets\n",
    "file_path = r\"C:\\Users\\Asus\\Desktop\\X_test.csv\" \n",
    "X_test = pd.read_csv(file_path)  \n",
    "X_test = np.array(X_test)\n",
    "new_array = X_test[:, 1:]\n",
    "new = torch.from_numpy(new_array)\n",
    "print(new)\n",
    "\n",
    "file_path_tr = r\"C:\\Users\\Asus\\Desktop\\X_train.csv\" \n",
    "X_train = pd.read_csv(file_path_tr)    \n",
    "\n",
    "# Remove nule rows\n",
    "X_train = X_train[~(X_train[X_train.columns[1:-1]] == 0).all(axis=1)]\n",
    "novo_X_train = X_train[X_train['t'] == 0]\n",
    "\n",
    "#\n",
    "X_treino, X_valid = train_test_split(novo_X_train, test_size=0.2)\n",
    "X_treino = np.array(X_treino)\n",
    "X_train = np.array(X_train)\n",
    "Y = X_train[:,[1,2,5,6,9,10]]\n",
    "\n",
    "Y = X_train[:,[1,2,5,6,9,10]]\n",
    "X = torch.tensor(X_treino[:, [0,1,2,5,6,9,10]], dtype=torch.float32)\n",
    "X.shape\n"
   ]
  },
  {
   "cell_type": "code",
   "execution_count": null,
   "metadata": {},
   "outputs": [],
   "source": [
    "\n",
    "Y = torch.tensor(Y, dtype=torch.float32)\n",
    "model = nn.Sequential(\n",
    "    nn.Linear(7, 64).to(torch.float32),\n",
    "    nn.ReLU(),\n",
    "    nn.Linear(64, 128).to(torch.float32),\n",
    "    nn.BatchNorm1d(128),\n",
    "    nn.ReLU(),\n",
    "    nn.Linear(128, 256).to(torch.float32),\n",
    "    nn.BatchNorm1d(256),\n",
    "    nn.ReLU(),\n",
    "    nn.Linear(256, 128).to(torch.float32),\n",
    "    nn.BatchNorm1d(128),\n",
    "    nn.ReLU(),\n",
    "    nn.Linear(128, 64).to(torch.float32),\n",
    "    nn.BatchNorm1d(64),\n",
    "    nn.ReLU(),\n",
    "    nn.Linear(64, 32).to(torch.float32),\n",
    "    nn.BatchNorm1d(32),\n",
    "    nn.ReLU(),\n",
    "    nn.Linear(32, 6).to(torch.float32))\n",
    "model\n",
    "\n",
    "loss_fn   = nn.SmoothL1Loss() \n",
    "optimizer = optim.Adam(model.parameters(), lr=0.001)\n",
    "\n",
    "n_epochs = 200\n",
    "batch_size = 257\n",
    "\n",
    "for epoch in range(n_epochs):\n",
    "    for i in range(0, n_epochs, 1):\n",
    "       Xbatch = np.tile(X[i], 257)\n",
    "    \n",
    "       Xbatch = torch.from_numpy(Xbatch)\n",
    "       Xbatch = Xbatch.reshape(257, 7)\n",
    "       for t in range(0, 257):\n",
    "        Xbatch[t, 0] = t*(10/257)\n",
    "\n",
    "       y_pred = model(Xbatch)\n",
    "       ybatch = Y[i:i+batch_size]\n",
    "       loss_value = loss_fn(y_pred, ybatch)\n",
    "       optimizer.zero_grad()\n",
    "       loss_value.backward()\n",
    "       optimizer.step()\n",
    "    print(f'Finished epoch {epoch}, latest loss {loss_value}')"
   ]
  },
  {
   "cell_type": "code",
   "execution_count": null,
   "metadata": {},
   "outputs": [],
   "source": [
    "n_epochs = 4053\n",
    "results = []\n",
    "all_predictions = np.empty((0,6))\n",
    "\n",
    "\n",
    "with torch.no_grad():  # Disable gradient tracking since it's inference\n",
    "    model.eval()\n",
    "    for i in range(n_epochs):\n",
    "        newnew = new[(i*257):(i*257+257),:]\n",
    "        newnew = newnew.to(torch.float32)\n",
    "        y_pred_test = model(newnew)\n",
    "        all_predictions = np.vstack((all_predictions, y_pred_test))\n"
   ]
  },
  {
   "cell_type": "code",
   "execution_count": null,
   "metadata": {},
   "outputs": [],
   "source": [
    "\n",
    "all_predictions"
   ]
  },
  {
   "cell_type": "code",
   "execution_count": null,
   "metadata": {},
   "outputs": [],
   "source": [
    "#Write the predictions file\n",
    "\n",
    "# Crie a string de cabeçalho\n",
    "header = \"Id,x_1,y_1,x_2,y_2,x_3,y_3\"\n",
    "\n",
    "# Converta o tensor em uma lista de listas e formate os valores\n",
    "formatted_data = []\n",
    "for idx, row in enumerate(all_predictions):\n",
    "    formatted_row = [f\"{idx},{value:.3f}\" for value in row]\n",
    "    formatted_data.append(\",\".join(formatted_row))\n",
    "\n",
    "# Combine os dados formatados em uma única string\n",
    "formatted_output = \"\\n\".join([header] + formatted_data)"
   ]
  },
  {
   "cell_type": "code",
   "execution_count": null,
   "metadata": {},
   "outputs": [],
   "source": [
    "import csv"
   ]
  },
  {
   "cell_type": "code",
   "execution_count": null,
   "metadata": {},
   "outputs": [],
   "source": [
    "# Abra um arquivo CSV para escrever\n",
    "with open('output.csv', 'w', newline='') as csvfile:\n",
    "    # Crie um escritor CSV\n",
    "    csv_writer = csv.writer(csvfile)\n",
    "\n",
    "    # Escreva o cabeçalho\n",
    "    csv_writer.writerow([\"Id\", \"x_1\", \"y_1\", \"x_2\", \"y_2\", \"x_3\", \"y_3\"])\n",
    "\n",
    "    # Escreva os dados formatados\n",
    "    for idx, row in enumerate(all_predictions):\n",
    "        formatted_row = [idx] + [round(val.item(), 3) for val in row]\n",
    "        csv_writer.writerow(formatted_row)"
   ]
  },
  {
   "cell_type": "code",
   "execution_count": null,
   "metadata": {},
   "outputs": [],
   "source": []
  }
 ],
 "metadata": {
  "kernelspec": {
   "display_name": "ml4space",
   "language": "python",
   "name": "python3"
  },
  "language_info": {
   "codemirror_mode": {
    "name": "ipython",
    "version": 3
   },
   "file_extension": ".py",
   "mimetype": "text/x-python",
   "name": "python",
   "nbconvert_exporter": "python",
   "pygments_lexer": "ipython3",
   "version": "3.11.4"
  },
  "orig_nbformat": 4
 },
 "nbformat": 4,
 "nbformat_minor": 2
}
